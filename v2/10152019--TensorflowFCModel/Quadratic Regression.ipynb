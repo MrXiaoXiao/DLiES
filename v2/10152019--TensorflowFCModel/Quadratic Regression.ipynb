{
 "cells": [
  {
   "cell_type": "markdown",
   "metadata": {},
   "source": [
    "# Quadratic Regression"
   ]
  },
  {
   "cell_type": "code",
   "execution_count": 1,
   "metadata": {},
   "outputs": [],
   "source": [
    "import tensorflow as tf\n",
    "import numpy as np\n",
    "import matplotlib.pyplot as plt"
   ]
  },
  {
   "cell_type": "code",
   "execution_count": 2,
   "metadata": {},
   "outputs": [],
   "source": [
    "# Parameters.\n",
    "learning_rate = 0.01\n",
    "training_steps = 1000\n",
    "display_step = 50"
   ]
  },
  {
   "cell_type": "code",
   "execution_count": 3,
   "metadata": {},
   "outputs": [],
   "source": [
    "# Simulate data\n",
    "data_size = 500\n",
    "X = np.zeros(data_size)\n",
    "Y = np.zeros(data_size)\n",
    "\n",
    "for idx in range(data_size):\n",
    "    X[idx] = np.random.uniform(low=-3,high=3,size=1)\n",
    "    # add noise\n",
    "    Y[idx] = 0.33*X[idx]*X[idx] + (-0.47)*X[idx] + 2.2 + np.random.normal(loc=0.0,scale=3.0)\n",
    "n_samples = X.shape[0]"
   ]
  },
  {
   "cell_type": "code",
   "execution_count": 4,
   "metadata": {},
   "outputs": [],
   "source": [
    "# Weight and Bias, initialized randomly.\n",
    "a = tf.Variable(np.random.randn(), name=\"a\")\n",
    "b = tf.Variable(np.random.randn(), name=\"b\")\n",
    "c = tf.Variable(np.random.randn(), name=\"c\")\n",
    "\n",
    "# quadratic regression (ax^2 + bx + c).\n",
    "def quadratic_regression(x):\n",
    "    return a * x * x + b * x + c\n",
    "\n",
    "# Mean square error.\n",
    "def mean_square(y_pred, y_true):\n",
    "    return tf.reduce_sum(tf.pow(y_pred-y_true, 2)) / (2 * n_samples)\n",
    "\n",
    "# Stochastic Gradient Descent Optimizer.\n",
    "optimizer = tf.optimizers.SGD(learning_rate)"
   ]
  },
  {
   "cell_type": "code",
   "execution_count": 5,
   "metadata": {},
   "outputs": [
    {
     "name": "stdout",
     "output_type": "stream",
     "text": [
      "a: -2.099273, b: -0.724980, c: 0.810941\n"
     ]
    }
   ],
   "source": [
    "print('a: %f, b: %f, c: %f' % (a.numpy(), b.numpy(), c.numpy()))"
   ]
  },
  {
   "cell_type": "code",
   "execution_count": 6,
   "metadata": {},
   "outputs": [],
   "source": [
    "# Optimization process. \n",
    "def run_optimization():\n",
    "    # Wrap computation inside a GradientTape for automatic differentiation.\n",
    "    with tf.GradientTape() as g:\n",
    "        pred = quadratic_regression(X)\n",
    "        loss = mean_square(pred, Y)\n",
    "\n",
    "    # Compute gradients.\n",
    "    gradients = g.gradient(loss, [a, b, c])\n",
    "    \n",
    "    # Update W and b following gradients.\n",
    "    optimizer.apply_gradients(zip(gradients, [a, b, c]))"
   ]
  },
  {
   "cell_type": "code",
   "execution_count": 7,
   "metadata": {},
   "outputs": [
    {
     "name": "stdout",
     "output_type": "stream",
     "text": [
      "step: 50, loss: 4.969676, a: 0.457202, b: -0.505582, c: 1.514253\n",
      "step: 100, loss: 4.916075, a: 0.428480, b: -0.522359, c: 1.674199\n",
      "step: 150, loss: 4.881758, a: 0.403693, b: -0.523782, c: 1.802687\n",
      "step: 200, loss: 4.859415, a: 0.383356, b: -0.521936, c: 1.906301\n",
      "step: 250, loss: 4.844844, a: 0.366853, b: -0.519705, c: 1.989942\n",
      "step: 300, loss: 4.835342, a: 0.353506, b: -0.517722, c: 2.057482\n",
      "step: 350, loss: 4.829143, a: 0.342722, b: -0.516076, c: 2.112026\n",
      "step: 400, loss: 4.825100, a: 0.334011, b: -0.514736, c: 2.156075\n",
      "step: 450, loss: 4.822464, a: 0.326976, b: -0.513650, c: 2.191649\n",
      "step: 500, loss: 4.820743, a: 0.321295, b: -0.512773, c: 2.220380\n",
      "step: 550, loss: 4.819622, a: 0.316706, b: -0.512064, c: 2.243583\n",
      "step: 600, loss: 4.818890, a: 0.313001, b: -0.511492, c: 2.262321\n",
      "step: 650, loss: 4.818413, a: 0.310008, b: -0.511030, c: 2.277455\n",
      "step: 700, loss: 4.818102, a: 0.307591, b: -0.510656, c: 2.289676\n",
      "step: 750, loss: 4.817898, a: 0.305639, b: -0.510355, c: 2.299546\n",
      "step: 800, loss: 4.817766, a: 0.304063, b: -0.510111, c: 2.307518\n",
      "step: 850, loss: 4.817680, a: 0.302790, b: -0.509915, c: 2.313955\n",
      "step: 900, loss: 4.817624, a: 0.301761, b: -0.509756, c: 2.319154\n",
      "step: 950, loss: 4.817587, a: 0.300931, b: -0.509628, c: 2.323352\n",
      "step: 1000, loss: 4.817563, a: 0.300260, b: -0.509524, c: 2.326744\n"
     ]
    }
   ],
   "source": [
    "# Run training for the given number of steps.\n",
    "for step in range(1, training_steps + 1):\n",
    "    # Run the optimization to update W and b values.\n",
    "    run_optimization()\n",
    "    \n",
    "    if step % display_step == 0:\n",
    "        pred = quadratic_regression(X)\n",
    "        loss = mean_square(pred, Y)\n",
    "        print(\"step: %i, loss: %f, a: %f, b: %f, c: %f\" % (step, loss, a.numpy(), b.numpy(), c.numpy()))"
   ]
  },
  {
   "cell_type": "code",
   "execution_count": 8,
   "metadata": {},
   "outputs": [
    {
     "data": {
      "image/png": "[encoded data removed]",
      "text/plain": [
       "<Figure size 432x288 with 1 Axes>"
      ]
     },
     "metadata": {
      "needs_background": "light"
     },
     "output_type": "display_data"
    }
   ],
   "source": [
    "# Graphic display\n",
    "plt.plot(X, Y, 'ro', label='Original data')\n",
    "X_sort = sorted(X)\n",
    "plt.plot(X_sort, np.array(a * X_sort * X_sort + b * X_sort + c), label='Fitted line')\n",
    "plt.legend()\n",
    "plt.show()"
   ]
  },
  {
   "cell_type": "code",
   "execution_count": null,
   "metadata": {},
   "outputs": [],
   "source": []
  }
 ],
 "metadata": {
  "kernelspec": {
   "display_name": "Python 3",
   "language": "python",
   "name": "python3"
  },
  "language_info": {
   "codemirror_mode": {
    "name": "ipython",
    "version": 3
   },
   "file_extension": ".py",
   "mimetype": "text/x-python",
   "name": "python",
   "nbconvert_exporter": "python",
   "pygments_lexer": "ipython3",
   "version": "3.6.7"
  }
 },
 "nbformat": 4,
 "nbformat_minor": 2
}
