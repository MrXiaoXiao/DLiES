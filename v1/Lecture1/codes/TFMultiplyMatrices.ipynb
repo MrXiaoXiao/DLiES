{
 "cells": [
  {
   "cell_type": "markdown",
   "metadata": {},
   "source": [
    "# TensorFlow Multiply Matrices Example"
   ]
  },
  {
   "cell_type": "markdown",
   "metadata": {},
   "source": [
    "Modified from https://github.com/vahidk/EffectiveTensorflow"
   ]
  },
  {
   "cell_type": "code",
   "execution_count": 1,
   "metadata": {},
   "outputs": [],
   "source": [
    "import tensorflow as tf"
   ]
  },
  {
   "cell_type": "code",
   "execution_count": 2,
   "metadata": {},
   "outputs": [],
   "source": [
    "x = tf.random_normal([3,3])\n",
    "y = tf.random_normal([3,3])\n",
    "z = tf.matmul(x,y)"
   ]
  },
  {
   "cell_type": "code",
   "execution_count": 3,
   "metadata": {},
   "outputs": [
    {
     "name": "stdout",
     "output_type": "stream",
     "text": [
      "X:Tensor(\"random_normal:0\", shape=(3, 3), dtype=float32)\n",
      "Y:Tensor(\"random_normal_1:0\", shape=(3, 3), dtype=float32)\n",
      "Z:Tensor(\"MatMul:0\", shape=(3, 3), dtype=float32)\n"
     ]
    }
   ],
   "source": [
    "print('X:{}\\nY:{}\\nZ:{}'.format(x,y,z))"
   ]
  },
  {
   "cell_type": "code",
   "execution_count": 4,
   "metadata": {},
   "outputs": [],
   "source": [
    "sess = tf.Session()\n",
    "z_val = sess.run(z)"
   ]
  },
  {
   "cell_type": "code",
   "execution_count": 5,
   "metadata": {},
   "outputs": [
    {
     "name": "stdout",
     "output_type": "stream",
     "text": [
      "[[-2.9103346 -1.9712499 -1.607337 ]\n",
      " [-1.0950625  0.3861115 -2.78587  ]\n",
      " [ 2.165921   1.4659454  1.1171169]]\n"
     ]
    }
   ],
   "source": [
    "print(z_val)"
   ]
  },
  {
   "cell_type": "code",
   "execution_count": null,
   "metadata": {},
   "outputs": [],
   "source": []
  }
 ],
 "metadata": {
  "kernelspec": {
   "display_name": "Python 3",
   "language": "python",
   "name": "python3"
  },
  "language_info": {
   "codemirror_mode": {
    "name": "ipython",
    "version": 3
   },
   "file_extension": ".py",
   "mimetype": "text/x-python",
   "name": "python",
   "nbconvert_exporter": "python",
   "pygments_lexer": "ipython3",
   "version": "3.6.6"
  }
 },
 "nbformat": 4,
 "nbformat_minor": 2
}
