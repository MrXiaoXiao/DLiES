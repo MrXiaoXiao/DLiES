{
 "cells": [
  {
   "cell_type": "markdown",
   "metadata": {},
   "source": [
    "# TensorFlow Multiply Matrices Example"
   ]
  },
  {
   "cell_type": "markdown",
   "metadata": {},
   "source": [
    "Modified from https://github.com/vahidk/EffectiveTensorflow"
   ]
  },
  {
   "cell_type": "code",
   "execution_count": 1,
   "metadata": {},
   "outputs": [],
   "source": [
    "import tensorflow as tf"
   ]
  },
  {
   "cell_type": "code",
   "execution_count": 2,
   "metadata": {},
   "outputs": [],
   "source": [
    "x = tf.random_normal([3,3])\n",
    "y = tf.random_normal([3,3])\n",
    "z = tf.matmul(x,y)"
   ]
  },
  {
   "cell_type": "code",
   "execution_count": 3,
   "metadata": {},
   "outputs": [
    {
     "name": "stdout",
     "output_type": "stream",
     "text": [
      "Tensor(\"random_normal:0\", shape=(3, 3), dtype=float32)\n",
      "Tensor(\"random_normal_1:0\", shape=(3, 3), dtype=float32)\n",
      "Tensor(\"MatMul:0\", shape=(3, 3), dtype=float32)\n"
     ]
    }
   ],
   "source": [
    "print('{}\\n{}\\n{}'.format(x,y,z))"
   ]
  },
  {
   "cell_type": "code",
   "execution_count": 4,
   "metadata": {},
   "outputs": [],
   "source": [
    "sess = tf.Session()\n",
    "z_val = sess.run(z)"
   ]
  },
  {
   "cell_type": "code",
   "execution_count": 5,
   "metadata": {},
   "outputs": [
    {
     "name": "stdout",
     "output_type": "stream",
     "text": [
      "[[-1.8857789   0.02845232  2.23009   ]\n",
      " [ 0.20160252  0.49441913  0.37605742]\n",
      " [ 3.5984905   1.7590961  -0.84973013]]\n"
     ]
    }
   ],
   "source": [
    "print(z_val)"
   ]
<<<<<<< HEAD
  },
  {
   "cell_type": "code",
   "execution_count": 6,
   "metadata": {},
   "outputs": [],
   "source": [
    "x_val = sess.run(x)\n",
    "y_val = sess.run(y)"
   ]
  },
  {
   "cell_type": "code",
   "execution_count": 7,
   "metadata": {},
   "outputs": [
    {
     "name": "stdout",
     "output_type": "stream",
     "text": [
      "[[-0.01596261  0.27405107  1.9109596 ]\n",
      " [ 0.44416907 -0.7248636   0.7326145 ]\n",
      " [-0.80693144 -0.5022447  -0.7522104 ]]\n",
      "[[-0.4781176  -0.5830741  -0.75308186]\n",
      " [ 1.9822578  -0.2333042   1.2907585 ]\n",
      " [-1.6292963  -0.5491128  -0.3844669 ]]\n"
     ]
    }
   ],
   "source": [
    "print('X:{}\\nY:{}'.format(x_val,y_val))"
   ]
  },
  {
   "cell_type": "code",
   "execution_count": null,
   "metadata": {},
   "outputs": [],
   "source": []
=======
>>>>>>> draft
  }
 ],
 "metadata": {
  "kernelspec": {
   "display_name": "Python 3",
   "language": "python",
   "name": "python3"
  },
  "language_info": {
   "codemirror_mode": {
    "name": "ipython",
    "version": 3
   },
   "file_extension": ".py",
   "mimetype": "text/x-python",
   "name": "python",
   "nbconvert_exporter": "python",
   "pygments_lexer": "ipython3",
   "version": "3.6.6"
  }
 },
 "nbformat": 4,
 "nbformat_minor": 2
}
