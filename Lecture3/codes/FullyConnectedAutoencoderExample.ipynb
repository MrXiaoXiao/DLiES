{
 "cells": [
  {
   "cell_type": "markdown",
   "metadata": {},
   "source": [
    "# Fully Connected Autoencoder Example\n",
    "modified from https://blog.keras.io/building-autoencoders-in-keras.html"
   ]
  },
  {
   "cell_type": "markdown",
   "metadata": {},
   "source": [
    "## Prepare Data Set"
   ]
  },
  {
   "cell_type": "code",
   "execution_count": null,
   "metadata": {},
   "outputs": [],
   "source": [
    "import tensorflow as tf\n",
    "from tensorflow.keras.datasets import mnist\n",
    "import numpy as np\n",
    "(x_train, _),(x_test, _) = mnist.load_data()"
   ]
  },
  {
   "cell_type": "markdown",
   "metadata": {},
   "source": [
    "## Check Data "
   ]
  },
  {
   "cell_type": "code",
   "execution_count": null,
   "metadata": {},
   "outputs": [],
   "source": [
    "import matplotlib.pyplot as plt\n",
    "print('x_train shape: {}  x_test shape: {}'.format(np.shape(x_train),np.shape(x_test)))\n",
    "for i in range(16):\n",
    "    plt.subplot(4, 4, 1 + i, xticks=[], yticks=[])\n",
    "    img_id = np.random.randint(np.shape(x_train)[0])\n",
    "    im = x_train[img_id,::]\n",
    "    plt.imshow(im)\n",
    "    plt.gray()"
   ]
  },
  {
   "cell_type": "markdown",
   "metadata": {},
   "source": [
    "## Preprocessing Data"
   ]
  },
  {
   "cell_type": "code",
   "execution_count": null,
   "metadata": {},
   "outputs": [],
   "source": [
    "x_train = x_train.astype('float32') / 255.\n",
    "x_test = x_test.astype('float32') / 255.\n",
    "x_train = x_train.reshape((len(x_train), np.prod(x_train.shape[1:])))\n",
    "x_test = x_test.reshape((len(x_test), np.prod(x_test.shape[1:])))\n",
    "print(x_train.shape)\n",
    "print(x_test.shape)"
   ]
  },
  {
   "cell_type": "markdown",
   "metadata": {},
   "source": [
    "## Build Model "
   ]
  },
  {
   "cell_type": "code",
   "execution_count": null,
   "metadata": {},
   "outputs": [],
   "source": [
    "from tensorflow.keras.layers import Dense\n",
    "autoencoder = tf.keras.Sequential()\n",
    "#Encoder\n",
    "autoencoder.add(Dense(128,activation='relu',input_shape=(784,)))\n",
    "autoencoder.add(Dense(64,activation='relu'))\n",
    "\n",
    "#Compressed representation\n",
    "autoencoder.add(Dense(32,activation='relu'))\n",
    "\n",
    "#Decoder\n",
    "autoencoder.add(Dense(64,activation='relu'))\n",
    "autoencoder.add(Dense(128,activation='relu'))\n",
    "autoencoder.add(Dense(784,activation='sigmoid'))\n",
    "\n",
    "autoencoder.summary()"
   ]
  },
  {
   "cell_type": "markdown",
   "metadata": {},
   "source": [
    "## Train Model"
   ]
  },
  {
   "cell_type": "code",
   "execution_count": null,
   "metadata": {},
   "outputs": [],
   "source": [
    "autoencoder.compile(optimizer='adadelta', loss='mse')\n",
    "\n",
    "autoencoder.fit(x_train, x_train,\n",
    "                epochs=100,\n",
    "                batch_size=256,\n",
    "                shuffle=True,\n",
    "                validation_data=(x_test, x_test))"
   ]
  },
  {
   "cell_type": "markdown",
   "metadata": {},
   "source": [
    "## Evaluate Model"
   ]
  },
  {
   "cell_type": "code",
   "execution_count": null,
   "metadata": {},
   "outputs": [],
   "source": [
    "x_recon = autoencoder.predict(x_test)\n",
    "for i in range(16):\n",
    "    plt.subplot(4, 8, 1 + i*2, xticks=[], yticks=[])\n",
    "    img_id = np.random.randint(np.shape(x_test)[0])\n",
    "    im = x_test[img_id,::].reshape([28,28])\n",
    "    plt.imshow(im)\n",
    "    plt.gray()\n",
    "    plt.title('Ori')\n",
    "    plt.subplot(4, 8, 2 + i*2, xticks=[], yticks=[])\n",
    "    \n",
    "    im = x_recon[img_id,::].reshape([28,28])\n",
    "    plt.imshow(im)\n",
    "    plt.gray()\n",
    "    plt.title('AE')"
   ]
  },
  {
   "cell_type": "markdown",
   "metadata": {},
   "source": [
    "# Denosing with Autoencoder "
   ]
  },
  {
   "cell_type": "markdown",
   "metadata": {},
   "source": [
    "## Add noise to data"
   ]
  },
  {
   "cell_type": "code",
   "execution_count": null,
   "metadata": {},
   "outputs": [],
   "source": [
    "noise_factor = 0.5\n",
    "x_train_noisy = x_train + noise_factor * np.random.normal(loc=0.0, scale=1.0, size=x_train.shape) \n",
    "x_test_noisy = x_test + noise_factor * np.random.normal(loc=0.0, scale=1.0, size=x_test.shape)\n",
    "x_train_noisy = np.clip(x_train_noisy, 0., 1.)\n",
    "x_test_noisy = np.clip(x_test_noisy, 0., 1.)"
   ]
  },
  {
   "cell_type": "markdown",
   "metadata": {},
   "source": [
    "## Check Data "
   ]
  },
  {
   "cell_type": "code",
   "execution_count": null,
   "metadata": {},
   "outputs": [],
   "source": [
    "for i in range(16):\n",
    "    plt.subplot(4, 4, 1 + i, xticks=[], yticks=[])\n",
    "    img_id = np.random.randint(np.shape(x_train)[0])\n",
    "    im = x_train_noisy[img_id,::].reshape([28,28])\n",
    "    plt.imshow(im)\n",
    "    plt.gray()"
   ]
  },
  {
   "cell_type": "markdown",
   "metadata": {},
   "source": [
    "## Create a New Model for Denosing"
   ]
  },
  {
   "cell_type": "code",
   "execution_count": null,
   "metadata": {},
   "outputs": [],
   "source": [
    "tf.reset_default_graph()\n",
    "tf.keras.backend.clear_session()\n",
    "autoencoder = tf.keras.Sequential()\n",
    "#Encoder\n",
    "autoencoder.add(Dense(128,activation='relu',input_shape=(784,)))\n",
    "autoencoder.add(Dense(64,activation='relu'))\n",
    "\n",
    "#Compressed representation\n",
    "autoencoder.add(Dense(32,activation='relu'))\n",
    "\n",
    "#Decoder\n",
    "autoencoder.add(Dense(64,activation='relu'))\n",
    "autoencoder.add(Dense(128,activation='relu'))\n",
    "autoencoder.add(Dense(784,activation='sigmoid'))\n",
    "\n",
    "#Train\n",
    "autoencoder.compile(optimizer='adadelta', loss='mse')\n",
    "\n",
    "autoencoder.fit(x_train, x_train,\n",
    "                epochs=100,\n",
    "                batch_size=256,\n",
    "                shuffle=True,\n",
    "                validation_data=(x_test, x_test))"
   ]
  },
  {
   "cell_type": "markdown",
   "metadata": {},
   "source": [
    "## Evaluate Model"
   ]
  },
  {
   "cell_type": "code",
   "execution_count": null,
   "metadata": {},
   "outputs": [],
   "source": [
    "x_denoise = autoencoder.predict(x_test_noisy)\n",
    "for i in range(16):\n",
    "    plt.subplot(4, 8, 1 + i*2, xticks=[], yticks=[])\n",
    "    img_id = np.random.randint(np.shape(x_test_noisy)[0])\n",
    "    im = x_test_noisy[img_id,::].reshape([28,28])\n",
    "    plt.imshow(im)\n",
    "    plt.gray()\n",
    "    plt.title('Ori')\n",
    "    plt.subplot(4, 8, 2 + i*2, xticks=[], yticks=[])\n",
    "    \n",
    "    im = x_denoise[img_id,::].reshape([28,28])\n",
    "    plt.imshow(im)\n",
    "    plt.gray()\n",
    "    plt.title('AE')"
   ]
  }
 ],
 "metadata": {
  "kernelspec": {
   "display_name": "Python 3",
   "language": "python",
   "name": "python3"
  },
  "language_info": {
   "codemirror_mode": {
    "name": "ipython",
    "version": 3
   },
   "file_extension": ".py",
   "mimetype": "text/x-python",
   "name": "python",
   "nbconvert_exporter": "python",
   "pygments_lexer": "ipython3",
   "version": "3.6.6"
  }
 },
 "nbformat": 4,
 "nbformat_minor": 2
}
