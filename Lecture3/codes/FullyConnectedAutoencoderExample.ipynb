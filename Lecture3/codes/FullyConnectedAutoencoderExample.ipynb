{
 "cells": [
  {
   "cell_type": "markdown",
   "metadata": {},
   "source": [
    "# Fully Connected Autoencoder Example\n",
    "modified from https://blog.keras.io/building-autoencoders-in-keras.html"
   ]
  },
  {
   "cell_type": "markdown",
   "metadata": {},
   "source": [
    "## Prepare Data Set"
   ]
  },
  {
   "cell_type": "code",
   "execution_count": 1,
   "metadata": {},
   "outputs": [],
   "source": [
    "import tensorflow as tf\n",
    "from tensorflow.keras.datasets import mnist\n",
    "import numpy as np\n",
    "(x_train, _),(x_test, _) = mnist.load_data()"
   ]
  },
  {
   "cell_type": "markdown",
   "metadata": {},
   "source": [
    "## Check Data "
   ]
  },
  {
   "cell_type": "code",
   "execution_count": 2,
   "metadata": {},
   "outputs": [
    {
     "name": "stdout",
     "output_type": "stream",
     "text": [
      "x_train shape: (60000, 28, 28)  x_test shape: (10000, 28, 28)\n"
     ]
    }
   ],
   "source": [
    "import matplotlib.pyplot as plt\n",
    "print('x_train shape: {}  x_test shape: {}'.format(np.shape(x_train),np.shape(x_test)))\n",
    "for i in range(16):\n",
    "    plt.subplot(4, 4, 1 + i, xticks=[], yticks=[])\n",
    "    img_id = np.random.randint(np.shape(x_train)[0])\n",
    "    im = x_train[img_id,::]\n",
    "    plt.imshow(im)\n",
    "    plt.gray()"
   ]
  },
  {
   "cell_type": "markdown",
   "metadata": {},
   "source": [
    "## Preprocessing Data"
   ]
  },
  {
   "cell_type": "code",
   "execution_count": 3,
   "metadata": {},
   "outputs": [
    {
     "name": "stdout",
     "output_type": "stream",
     "text": [
      "(60000, 784)\n",
      "(10000, 784)\n"
     ]
    }
   ],
   "source": [
    "x_train = x_train.astype('float32') / 255.\n",
    "x_test = x_test.astype('float32') / 255.\n",
    "x_train = x_train.reshape((len(x_train), np.prod(x_train.shape[1:])))\n",
    "x_test = x_test.reshape((len(x_test), np.prod(x_test.shape[1:])))\n",
    "print(x_train.shape)\n",
    "print(x_test.shape)"
   ]
  },
  {
   "cell_type": "markdown",
   "metadata": {},
   "source": [
    "## Build Model "
   ]
  },
  {
   "cell_type": "code",
   "execution_count": 4,
   "metadata": {},
   "outputs": [
    {
     "name": "stdout",
     "output_type": "stream",
     "text": [
      "_________________________________________________________________\n",
      "Layer (type)                 Output Shape              Param #   \n",
      "=================================================================\n",
      "dense (Dense)                (None, 128)               100480    \n",
      "_________________________________________________________________\n",
      "dense_1 (Dense)              (None, 64)                8256      \n",
      "_________________________________________________________________\n",
      "dense_2 (Dense)              (None, 32)                2080      \n",
      "_________________________________________________________________\n",
      "dense_3 (Dense)              (None, 64)                2112      \n",
      "_________________________________________________________________\n",
      "dense_4 (Dense)              (None, 128)               8320      \n",
      "_________________________________________________________________\n",
      "dense_5 (Dense)              (None, 784)               101136    \n",
      "=================================================================\n",
      "Total params: 222,384\n",
      "Trainable params: 222,384\n",
      "Non-trainable params: 0\n",
      "_________________________________________________________________\n"
     ]
    }
   ],
   "source": [
    "from tensorflow.keras.layers import Dense\n",
    "autoencoder = tf.keras.Sequential()\n",
    "#Encoder\n",
    "autoencoder.add(Dense(128,activation='relu',input_shape=(784,)))\n",
    "autoencoder.add(Dense(64,activation='relu'))\n",
    "\n",
    "#Compressed representation\n",
    "autoencoder.add(Dense(32,activation='relu'))\n",
    "\n",
    "#Decoder\n",
    "autoencoder.add(Dense(64,activation='relu'))\n",
    "autoencoder.add(Dense(128,activation='relu'))\n",
    "autoencoder.add(Dense(784,activation='sigmoid'))\n",
    "\n",
    "autoencoder.summary()"
   ]
  },
  {
   "cell_type": "markdown",
   "metadata": {},
   "source": [
    "## Train Model"
   ]
  },
  {
   "cell_type": "code",
   "execution_count": null,
   "metadata": {},
   "outputs": [
    {
     "name": "stdout",
     "output_type": "stream",
     "text": [
      "Train on 60000 samples, validate on 10000 samples\n",
      "Epoch 1/100\n",
      "60000/60000 [==============================] - 3s 47us/step - loss: 0.1142 - val_loss: 0.0692\n",
      "Epoch 2/100\n",
      "60000/60000 [==============================] - 2s 35us/step - loss: 0.0681 - val_loss: 0.0676\n",
      "Epoch 3/100\n",
      "60000/60000 [==============================] - 2s 35us/step - loss: 0.0667 - val_loss: 0.0661\n",
      "Epoch 4/100\n",
      "60000/60000 [==============================] - 2s 35us/step - loss: 0.0647 - val_loss: 0.0637\n",
      "Epoch 5/100\n",
      "60000/60000 [==============================] - 2s 35us/step - loss: 0.0622 - val_loss: 0.0616\n",
      "Epoch 6/100\n",
      "60000/60000 [==============================] - 2s 35us/step - loss: 0.0608 - val_loss: 0.0604\n",
      "Epoch 7/100\n",
      "60000/60000 [==============================] - 3s 43us/step - loss: 0.0597 - val_loss: 0.0592\n",
      "Epoch 8/100\n",
      "60000/60000 [==============================] - 2s 42us/step - loss: 0.0580 - val_loss: 0.0566\n",
      "Epoch 9/100\n",
      "60000/60000 [==============================] - 2s 35us/step - loss: 0.0547 - val_loss: 0.0526\n",
      "Epoch 10/100\n",
      "60000/60000 [==============================] - 2s 35us/step - loss: 0.0517 - val_loss: 0.0503\n",
      "Epoch 11/100\n",
      "60000/60000 [==============================] - 2s 34us/step - loss: 0.0496 - val_loss: 0.0485\n",
      "Epoch 12/100\n",
      "60000/60000 [==============================] - 2s 38us/step - loss: 0.0479 - val_loss: 0.0469\n",
      "Epoch 13/100\n",
      "60000/60000 [==============================] - 2s 35us/step - loss: 0.0464 - val_loss: 0.0456\n",
      "Epoch 14/100\n",
      "60000/60000 [==============================] - 2s 37us/step - loss: 0.0447 - val_loss: 0.0434\n",
      "Epoch 15/100\n",
      "60000/60000 [==============================] - 2s 36us/step - loss: 0.0428 - val_loss: 0.0413\n",
      "Epoch 16/100\n",
      "60000/60000 [==============================] - 2s 35us/step - loss: 0.0408 - val_loss: 0.0395\n",
      "Epoch 17/100\n",
      "60000/60000 [==============================] - 2s 38us/step - loss: 0.0390 - val_loss: 0.0378\n",
      "Epoch 18/100\n",
      "60000/60000 [==============================] - 2s 38us/step - loss: 0.0377 - val_loss: 0.0367\n",
      "Epoch 19/100\n",
      "60000/60000 [==============================] - 2s 37us/step - loss: 0.0369 - val_loss: 0.0366\n",
      "Epoch 20/100\n",
      "60000/60000 [==============================] - 2s 38us/step - loss: 0.0362 - val_loss: 0.0354\n",
      "Epoch 21/100\n",
      "60000/60000 [==============================] - 2s 39us/step - loss: 0.0356 - val_loss: 0.0349\n",
      "Epoch 22/100\n",
      "60000/60000 [==============================] - 2s 39us/step - loss: 0.0349 - val_loss: 0.0344\n",
      "Epoch 23/100\n",
      "60000/60000 [==============================] - 2s 36us/step - loss: 0.0343 - val_loss: 0.0336\n",
      "Epoch 24/100\n",
      "60000/60000 [==============================] - 2s 36us/step - loss: 0.0335 - val_loss: 0.0325\n",
      "Epoch 25/100\n",
      "60000/60000 [==============================] - 2s 36us/step - loss: 0.0327 - val_loss: 0.0320\n",
      "Epoch 26/100\n",
      "60000/60000 [==============================] - 2s 36us/step - loss: 0.0320 - val_loss: 0.0315\n",
      "Epoch 27/100\n",
      "60000/60000 [==============================] - 2s 36us/step - loss: 0.0315 - val_loss: 0.0310\n",
      "Epoch 28/100\n",
      "60000/60000 [==============================] - 2s 38us/step - loss: 0.0310 - val_loss: 0.0303\n",
      "Epoch 29/100\n",
      "60000/60000 [==============================] - 2s 38us/step - loss: 0.0305 - val_loss: 0.0300\n",
      "Epoch 30/100\n",
      "60000/60000 [==============================] - 2s 36us/step - loss: 0.0302 - val_loss: 0.0297\n",
      "Epoch 31/100\n",
      "60000/60000 [==============================] - 2s 36us/step - loss: 0.0298 - val_loss: 0.0292\n",
      "Epoch 32/100\n",
      "60000/60000 [==============================] - 2s 36us/step - loss: 0.0295 - val_loss: 0.0287\n",
      "Epoch 33/100\n",
      "60000/60000 [==============================] - 2s 37us/step - loss: 0.0292 - val_loss: 0.0284\n",
      "Epoch 34/100\n",
      "60000/60000 [==============================] - 2s 37us/step - loss: 0.0287 - val_loss: 0.0282\n",
      "Epoch 35/100\n",
      "60000/60000 [==============================] - 2s 38us/step - loss: 0.0284 - val_loss: 0.0281\n",
      "Epoch 36/100\n",
      "60000/60000 [==============================] - 2s 40us/step - loss: 0.0281 - val_loss: 0.0274\n",
      "Epoch 37/100\n",
      "60000/60000 [==============================] - 2s 38us/step - loss: 0.0278 - val_loss: 0.0273\n",
      "Epoch 38/100\n",
      "60000/60000 [==============================] - 2s 37us/step - loss: 0.0275 - val_loss: 0.0269\n",
      "Epoch 39/100\n",
      "60000/60000 [==============================] - 2s 37us/step - loss: 0.0272 - val_loss: 0.0265\n",
      "Epoch 40/100\n",
      "60000/60000 [==============================] - 2s 37us/step - loss: 0.0269 - val_loss: 0.0264\n",
      "Epoch 41/100\n",
      "60000/60000 [==============================] - 2s 37us/step - loss: 0.0266 - val_loss: 0.0259\n",
      "Epoch 42/100\n",
      "60000/60000 [==============================] - 3s 49us/step - loss: 0.0262 - val_loss: 0.0262\n",
      "Epoch 43/100\n",
      "60000/60000 [==============================] - 2s 39us/step - loss: 0.0259 - val_loss: 0.0259\n",
      "Epoch 44/100\n",
      "60000/60000 [==============================] - 2s 37us/step - loss: 0.0257 - val_loss: 0.0251\n",
      "Epoch 45/100\n",
      "60000/60000 [==============================] - 2s 37us/step - loss: 0.0253 - val_loss: 0.0246\n",
      "Epoch 46/100\n",
      "60000/60000 [==============================] - 2s 37us/step - loss: 0.0251 - val_loss: 0.0244\n",
      "Epoch 47/100\n",
      "60000/60000 [==============================] - 2s 36us/step - loss: 0.0248 - val_loss: 0.0243\n",
      "Epoch 48/100\n",
      "60000/60000 [==============================] - 2s 36us/step - loss: 0.0246 - val_loss: 0.0239\n",
      "Epoch 49/100\n",
      "60000/60000 [==============================] - 2s 38us/step - loss: 0.0243 - val_loss: 0.0239\n",
      "Epoch 50/100\n",
      "60000/60000 [==============================] - 2s 39us/step - loss: 0.0242 - val_loss: 0.0234\n",
      "Epoch 51/100\n",
      "60000/60000 [==============================] - 2s 37us/step - loss: 0.0240 - val_loss: 0.0237\n",
      "Epoch 52/100\n",
      "60000/60000 [==============================] - 2s 37us/step - loss: 0.0237 - val_loss: 0.0231\n",
      "Epoch 53/100\n",
      "60000/60000 [==============================] - 2s 35us/step - loss: 0.0236 - val_loss: 0.0232\n",
      "Epoch 54/100\n",
      "60000/60000 [==============================] - 2s 37us/step - loss: 0.0234 - val_loss: 0.0231\n",
      "Epoch 55/100\n",
      "60000/60000 [==============================] - 2s 41us/step - loss: 0.0232 - val_loss: 0.0226\n",
      "Epoch 56/100\n",
      "60000/60000 [==============================] - 2s 38us/step - loss: 0.0230 - val_loss: 0.0227\n",
      "Epoch 57/100\n",
      "60000/60000 [==============================] - 2s 40us/step - loss: 0.0229 - val_loss: 0.0223\n",
      "Epoch 58/100\n",
      "60000/60000 [==============================] - 2s 39us/step - loss: 0.0226 - val_loss: 0.0224\n",
      "Epoch 59/100\n",
      "60000/60000 [==============================] - 2s 38us/step - loss: 0.0225 - val_loss: 0.0221\n",
      "Epoch 60/100\n",
      "60000/60000 [==============================] - 2s 37us/step - loss: 0.0223 - val_loss: 0.0222\n",
      "Epoch 61/100\n",
      "60000/60000 [==============================] - 2s 37us/step - loss: 0.0221 - val_loss: 0.0213\n",
      "Epoch 62/100\n",
      "60000/60000 [==============================] - 2s 38us/step - loss: 0.0219 - val_loss: 0.0215\n",
      "Epoch 63/100\n",
      "60000/60000 [==============================] - 2s 38us/step - loss: 0.0218 - val_loss: 0.0212\n",
      "Epoch 64/100\n",
      "60000/60000 [==============================] - 2s 40us/step - loss: 0.0216 - val_loss: 0.0214\n",
      "Epoch 65/100\n",
      "60000/60000 [==============================] - 2s 38us/step - loss: 0.0214 - val_loss: 0.0209\n",
      "Epoch 66/100\n",
      "60000/60000 [==============================] - 2s 37us/step - loss: 0.0213 - val_loss: 0.0210\n",
      "Epoch 67/100\n",
      "60000/60000 [==============================] - 2s 35us/step - loss: 0.0211 - val_loss: 0.0209\n",
      "Epoch 68/100\n",
      "60000/60000 [==============================] - 2s 35us/step - loss: 0.0210 - val_loss: 0.0203\n",
      "Epoch 69/100\n",
      "60000/60000 [==============================] - 2s 35us/step - loss: 0.0208 - val_loss: 0.0201\n",
      "Epoch 70/100\n",
      "60000/60000 [==============================] - 2s 35us/step - loss: 0.0207 - val_loss: 0.0203\n",
      "Epoch 71/100\n",
      "60000/60000 [==============================] - 2s 38us/step - loss: 0.0205 - val_loss: 0.0199\n",
      "Epoch 72/100\n",
      "60000/60000 [==============================] - 2s 36us/step - loss: 0.0204 - val_loss: 0.0200\n",
      "Epoch 73/100\n",
      "60000/60000 [==============================] - 2s 35us/step - loss: 0.0203 - val_loss: 0.0198\n",
      "Epoch 74/100\n",
      "60000/60000 [==============================] - 2s 35us/step - loss: 0.0201 - val_loss: 0.0198\n",
      "Epoch 75/100\n",
      "60000/60000 [==============================] - 3s 43us/step - loss: 0.0201 - val_loss: 0.0195\n",
      "Epoch 76/100\n",
      "60000/60000 [==============================] - 3s 45us/step - loss: 0.0199 - val_loss: 0.0191\n",
      "Epoch 77/100\n"
     ]
    },
    {
     "name": "stdout",
     "output_type": "stream",
     "text": [
      "60000/60000 [==============================] - 3s 46us/step - loss: 0.0198 - val_loss: 0.0195\n",
      "Epoch 78/100\n",
      "60000/60000 [==============================] - 2s 39us/step - loss: 0.0197 - val_loss: 0.0190\n",
      "Epoch 79/100\n",
      "60000/60000 [==============================] - 2s 36us/step - loss: 0.0196 - val_loss: 0.0194\n",
      "Epoch 80/100\n",
      "60000/60000 [==============================] - 2s 36us/step - loss: 0.0195 - val_loss: 0.0191\n",
      "Epoch 81/100\n",
      "60000/60000 [==============================] - 2s 35us/step - loss: 0.0194 - val_loss: 0.0188\n",
      "Epoch 82/100\n",
      "60000/60000 [==============================] - 2s 35us/step - loss: 0.0192 - val_loss: 0.0191\n",
      "Epoch 83/100\n",
      "60000/60000 [==============================] - 2s 35us/step - loss: 0.0192 - val_loss: 0.0185\n",
      "Epoch 84/100\n",
      "60000/60000 [==============================] - 2s 35us/step - loss: 0.0191 - val_loss: 0.0188\n",
      "Epoch 85/100\n",
      "60000/60000 [==============================] - 2s 38us/step - loss: 0.0190 - val_loss: 0.0187\n",
      "Epoch 86/100\n",
      "60000/60000 [==============================] - 2s 37us/step - loss: 0.0189 - val_loss: 0.0185\n",
      "Epoch 87/100\n",
      "60000/60000 [==============================] - 2s 35us/step - loss: 0.0188 - val_loss: 0.0182\n",
      "Epoch 88/100\n",
      "60000/60000 [==============================] - 2s 35us/step - loss: 0.0187 - val_loss: 0.0185\n",
      "Epoch 89/100\n",
      "60000/60000 [==============================] - 2s 35us/step - loss: 0.0186 - val_loss: 0.0182\n",
      "Epoch 90/100\n",
      "60000/60000 [==============================] - 2s 35us/step - loss: 0.0185 - val_loss: 0.0182\n",
      "Epoch 91/100\n",
      "60000/60000 [==============================] - 2s 35us/step - loss: 0.0184 - val_loss: 0.0180\n",
      "Epoch 92/100\n",
      "60000/60000 [==============================] - 2s 36us/step - loss: 0.0183 - val_loss: 0.0180\n",
      "Epoch 93/100\n",
      "60000/60000 [==============================] - 2s 37us/step - loss: 0.0182 - val_loss: 0.0178\n",
      "Epoch 94/100\n",
      "60000/60000 [==============================] - 2s 35us/step - loss: 0.0181 - val_loss: 0.0177\n",
      "Epoch 95/100\n",
      "60000/60000 [==============================] - 2s 35us/step - loss: 0.0181 - val_loss: 0.0179\n",
      "Epoch 96/100\n",
      "60000/60000 [==============================] - 2s 34us/step - loss: 0.0180 - val_loss: 0.0176\n",
      "Epoch 97/100\n",
      "60000/60000 [==============================] - 2s 35us/step - loss: 0.0179 - val_loss: 0.0174\n",
      "Epoch 98/100\n",
      "60000/60000 [==============================] - 2s 35us/step - loss: 0.0178 - val_loss: 0.0172\n",
      "Epoch 99/100\n",
      "59136/60000 [============================>.] - ETA: 0s - loss: 0.0178"
     ]
    }
   ],
   "source": [
    "autoencoder.compile(optimizer='adadelta', loss='mse')\n",
    "\n",
    "autoencoder.fit(x_train, x_train,\n",
    "                epochs=100,\n",
    "                batch_size=256,\n",
    "                shuffle=True,\n",
    "                validation_data=(x_test, x_test))"
   ]
  },
  {
   "cell_type": "markdown",
   "metadata": {},
   "source": [
    "## Evaluate Model"
   ]
  },
  {
   "cell_type": "code",
   "execution_count": null,
   "metadata": {},
   "outputs": [],
   "source": [
    "x_recon = autoencoder.predict(x_test)\n",
    "for i in range(16):\n",
    "    plt.subplot(4, 8, 1 + i*2, xticks=[], yticks=[])\n",
    "    img_id = np.random.randint(np.shape(x_test)[0])\n",
    "    im = x_test[img_id,::].reshape([28,28])\n",
    "    plt.imshow(im)\n",
    "    plt.gray()\n",
    "    plt.title('Ori')\n",
    "    plt.subplot(4, 8, 2 + i*2, xticks=[], yticks=[])\n",
    "    \n",
    "    im = x_recon[img_id,::].reshape([28,28])\n",
    "    plt.imshow(im)\n",
    "    plt.gray()\n",
    "    plt.title('AE')"
   ]
  },
  {
   "cell_type": "markdown",
   "metadata": {},
   "source": [
    "# Denosing with Autoencoder "
   ]
  },
  {
   "cell_type": "markdown",
   "metadata": {},
   "source": [
    "## Add noise to data"
   ]
  },
  {
   "cell_type": "code",
   "execution_count": null,
   "metadata": {},
   "outputs": [],
   "source": [
    "noise_factor = 0.5\n",
    "x_train_noisy = x_train + noise_factor * np.random.normal(loc=0.0, scale=1.0, size=x_train.shape) \n",
    "x_test_noisy = x_test + noise_factor * np.random.normal(loc=0.0, scale=1.0, size=x_test.shape)\n",
    "x_train_noisy = np.clip(x_train_noisy, 0., 1.)\n",
    "x_test_noisy = np.clip(x_test_noisy, 0., 1.)"
   ]
  },
  {
   "cell_type": "markdown",
   "metadata": {},
   "source": [
    "## Check Data "
   ]
  },
  {
   "cell_type": "code",
   "execution_count": null,
   "metadata": {},
   "outputs": [],
   "source": [
    "for i in range(16):\n",
    "    plt.subplot(4, 4, 1 + i, xticks=[], yticks=[])\n",
    "    img_id = np.random.randint(np.shape(x_train)[0])\n",
    "    im = x_train_noisy[img_id,::].reshape([28,28])\n",
    "    plt.imshow(im)\n",
    "    plt.gray()"
   ]
  },
  {
   "cell_type": "markdown",
   "metadata": {},
   "source": [
    "## Create a New Model for Denosing"
   ]
  },
  {
   "cell_type": "code",
   "execution_count": null,
   "metadata": {},
   "outputs": [],
   "source": [
    "tf.reset_default_graph()\n",
    "tf.keras.backend.clear_session()\n",
    "autoencoder = tf.keras.Sequential()\n",
    "#Encoder\n",
    "autoencoder.add(Dense(128,activation='relu',input_shape=(784,)))\n",
    "autoencoder.add(Dense(64,activation='relu'))\n",
    "\n",
    "#Compressed representation\n",
    "autoencoder.add(Dense(32,activation='relu'))\n",
    "\n",
    "#Decoder\n",
    "autoencoder.add(Dense(64,activation='relu'))\n",
    "autoencoder.add(Dense(128,activation='relu'))\n",
    "autoencoder.add(Dense(784,activation='sigmoid'))\n",
    "\n",
    "#Train\n",
    "autoencoder.compile(optimizer='adadelta', loss='mse')\n",
    "\n",
    "autoencoder.fit(x_train, x_train,\n",
    "                epochs=100,\n",
    "                batch_size=256,\n",
    "                shuffle=True,\n",
    "                validation_data=(x_test, x_test))"
   ]
  },
  {
   "cell_type": "markdown",
   "metadata": {},
   "source": [
    "## Evaluate Model"
   ]
  },
  {
   "cell_type": "code",
   "execution_count": null,
   "metadata": {},
   "outputs": [],
   "source": [
    "x_denoise = autoencoder.predict(x_test_noisy)\n",
    "for i in range(16):\n",
    "    plt.subplot(4, 8, 1 + i*2, xticks=[], yticks=[])\n",
    "    img_id = np.random.randint(np.shape(x_test_noisy)[0])\n",
    "    im = x_test_noisy[img_id,::].reshape([28,28])\n",
    "    plt.imshow(im)\n",
    "    plt.gray()\n",
    "    plt.title('Ori')\n",
    "    plt.subplot(4, 8, 2 + i*2, xticks=[], yticks=[])\n",
    "    \n",
    "    im = x_denoise[img_id,::].reshape([28,28])\n",
    "    plt.imshow(im)\n",
    "    plt.gray()\n",
    "    plt.title('AE')"
   ]
  }
 ],
 "metadata": {
  "kernelspec": {
   "display_name": "Python 3",
   "language": "python",
   "name": "python3"
  },
  "language_info": {
   "codemirror_mode": {
    "name": "ipython",
    "version": 3
   },
   "file_extension": ".py",
   "mimetype": "text/x-python",
   "name": "python",
   "nbconvert_exporter": "python",
   "pygments_lexer": "ipython3",
   "version": "3.6.6"
  }
 },
 "nbformat": 4,
 "nbformat_minor": 2
}
